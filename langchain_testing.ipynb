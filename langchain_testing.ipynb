{
 "cells": [
  {
   "cell_type": "markdown",
   "source": [
    "# LangChain Playground"
   ],
   "metadata": {
    "collapsed": false,
    "pycharm": {
     "name": "#%% md\n"
    }
   }
  },
  {
   "cell_type": "markdown",
   "source": [
    "## Init Model and use some prompt template"
   ],
   "metadata": {
    "collapsed": false,
    "pycharm": {
     "name": "#%% md\n"
    }
   }
  },
  {
   "cell_type": "code",
   "execution_count": 2,
   "outputs": [],
   "source": [
    "from langchain import PromptTemplate, LLMChain\n",
    "from langchain.callbacks.streaming_stdout import StreamingStdOutCallbackHandler\n",
    "from langchain.llms import GPT4All\n",
    "\n",
    "import config"
   ],
   "metadata": {
    "collapsed": false,
    "pycharm": {
     "name": "#%%\n"
    }
   }
  },
  {
   "cell_type": "code",
   "execution_count": 3,
   "outputs": [],
   "source": [
    "template = \"Tell me the DnD rule for the follow: {action}\"\n",
    "prompt = PromptTemplate(template=template, input_variables=['action'])"
   ],
   "metadata": {
    "collapsed": false,
    "pycharm": {
     "name": "#%%\n"
    }
   }
  },
  {
   "cell_type": "code",
   "execution_count": 4,
   "outputs": [
    {
     "name": "stdout",
     "output_type": "stream",
     "text": [
      "Found model file.\n"
     ]
    }
   ],
   "source": [
    "callbacks = [StreamingStdOutCallbackHandler()]\n",
    "llm = GPT4All(model=config.gpt_4all_groovy, backend='gptj', callbacks=callbacks)"
   ],
   "metadata": {
    "collapsed": false,
    "pycharm": {
     "name": "#%%\n"
    }
   }
  },
  {
   "cell_type": "code",
   "execution_count": 5,
   "outputs": [],
   "source": [
    "llm_chain = LLMChain(prompt=prompt, llm=llm)"
   ],
   "metadata": {
    "collapsed": false,
    "pycharm": {
     "name": "#%%\n"
    }
   }
  },
  {
   "cell_type": "code",
   "execution_count": 6,
   "outputs": [
    {
     "name": "stdout",
     "output_type": "stream",
     "text": [
      "\n"
     ]
    },
    {
     "data": {
      "text/plain": "''"
     },
     "execution_count": 6,
     "metadata": {},
     "output_type": "execute_result"
    }
   ],
   "source": [
    "llm_chain.run('Spellcasting')"
   ],
   "metadata": {
    "collapsed": false,
    "pycharm": {
     "name": "#%%\n"
    }
   }
  },
  {
   "cell_type": "markdown",
   "source": [
    "## Using indexers for IR"
   ],
   "metadata": {
    "collapsed": false,
    "pycharm": {
     "name": "#%% md\n"
    }
   }
  },
  {
   "cell_type": "markdown",
   "source": [
    "### Convert text pages to embeddings and store in vectorstore"
   ],
   "metadata": {
    "collapsed": false,
    "pycharm": {
     "name": "#%% md\n"
    }
   }
  },
  {
   "cell_type": "code",
   "execution_count": 7,
   "outputs": [],
   "source": [
    "from langchain.embeddings import HuggingFaceInstructEmbeddings"
   ],
   "metadata": {
    "collapsed": false,
    "pycharm": {
     "name": "#%%\n"
    }
   }
  },
  {
   "cell_type": "code",
   "execution_count": 8,
   "outputs": [
    {
     "name": "stdout",
     "output_type": "stream",
     "text": [
      "load INSTRUCTOR_Transformer\n",
      "max_seq_length  512\n"
     ]
    }
   ],
   "source": [
    "embeddings = HuggingFaceInstructEmbeddings(\n",
    "    query_instruction=\"Represent the query for retrieval: \"\n",
    ")"
   ],
   "metadata": {
    "collapsed": false,
    "pycharm": {
     "name": "#%%\n"
    }
   }
  },
  {
   "cell_type": "code",
   "execution_count": 14,
   "outputs": [],
   "source": [
    "from langchain.document_loaders import PyPDFLoader\n",
    "import os\n",
    "\n",
    "if not os.path.exists('phb_faiss_index'):\n",
    "    loader = PyPDFLoader(\"C:\\\\Users\\\\phili\\\\Documents\\\\DND_5E_PHB.pdf\")\n",
    "    documents = loader.load()"
   ],
   "metadata": {
    "collapsed": false,
    "pycharm": {
     "name": "#%%\n"
    }
   }
  },
  {
   "cell_type": "code",
   "execution_count": 10,
   "outputs": [],
   "source": [
    "from langchain.vectorstores import FAISS\n",
    "from langchain.text_splitter import RecursiveCharacterTextSplitter\n",
    "\n",
    "if not os.path.exists('phb_faiss_index'):\n",
    "    print('Re-Indexing Player Handbook')\n",
    "\n",
    "    text_splitter = RecursiveCharacterTextSplitter(chunk_size=200, chunk_overlap=32)\n",
    "    pages = text_splitter.split_documents(documents)\n",
    "\n",
    "    faiss_index = FAISS.from_documents(pages, embeddings)\n",
    "    faiss_index.save_local('phb_faiss_index')\n",
    "else:\n",
    "    faiss_index = FAISS.load_local('phb_faiss_index', embeddings)"
   ],
   "metadata": {
    "collapsed": false,
    "pycharm": {
     "name": "#%%\n"
    }
   }
  },
  {
   "cell_type": "markdown",
   "source": [
    "## Combine Language model and Index Store to get a Document Question Answering Chain"
   ],
   "metadata": {
    "collapsed": false,
    "pycharm": {
     "name": "#%% md\n"
    }
   }
  },
  {
   "cell_type": "code",
   "execution_count": 27,
   "outputs": [],
   "source": [
    "template = \"\"\"\n",
    "Use the following context to answer questions.\n",
    "Context: {context}\n",
    "---\n",
    "The following question is about the tabletop game Dungeons and Dragons.\n",
    "Question: {question}\n",
    "Answer: Let's think step by step.\n",
    "\"\"\""
   ],
   "metadata": {
    "collapsed": false,
    "pycharm": {
     "name": "#%%\n"
    }
   }
  },
  {
   "cell_type": "code",
   "execution_count": 29,
   "outputs": [],
   "source": [
    "question_prompt_template = PromptTemplate(template=template, input_variables=['question', 'context'])\n",
    "llm_qa_chain = LLMChain(llm=llm, prompt=question_prompt_template)\n",
    "\n",
    "def get_answer_for_question(question: str) -> str:\n",
    "    similar_documents = faiss_index.similarity_search(question, k=2)\n",
    "    context = \"\\n\".join([d.page_content for d in similar_documents])\n",
    "    return llm_qa_chain.run(context=context, question=question)"
   ],
   "metadata": {
    "collapsed": false,
    "pycharm": {
     "name": "#%%\n"
    }
   }
  },
  {
   "cell_type": "code",
   "execution_count": 30,
   "outputs": [
    {
     "name": "stdout",
     "output_type": "stream",
     "text": [
      "1) Level 1 to 2 - Experience points are earned when you complete an adventure or defeat a monster in combat (depending on your character class). You can earn these experience points through playing mini-games, completing quests and solving puzzles within the game world. Once this first level is reached, choose one option from table A:A) Use all three of them to upgrade some equipment  for 3rd or 4th levels(e.) Upgrade a weapon (D), armor (C), shield +1d6 damage at 6HD; and 1 bonus spell per caster level. You can use these new items in the future, whenever you're ready - just keep track!B) Don't upgrade any equipment until 3rd or 4th levels(e.) If your experience points are enough to gain a certain number of \"levels\" (experience point milestones), choose one option from table B:  I. You can use these new items when the time comes, whenever you're ready - just keep track!2) Level 2 to 3 - As soon as possible after gaining levels 1 and/or 2 by"
     ]
    },
    {
     "name": "stderr",
     "output_type": "stream",
     "text": [
      "Exception ignored on calling ctypes callback function: <function LLModel._response_callback at 0x0000025CAC91DB40>\n",
      "Traceback (most recent call last):\n",
      "  File \"C:\\Users\\phili\\miniconda3\\envs\\torch_python_310\\lib\\site-packages\\gpt4all\\pyllmodel.py\", line 239, in _response_callback\n",
      "    @staticmethod\n",
      "KeyboardInterrupt: \n"
     ]
    },
    {
     "name": "stdout",
     "output_type": "stream",
     "text": [
      "\n",
      "1) Level 1 to 2 - Experience points are earned when you complete an adventure or defeat a monster in combat (depending on your character class). You can earn these experience points through playing mini-games, completing quests and solving puzzles within the game world. Once this first level is reached, choose one option from table A:A) Use all three of them to upgrade some equipment  for 3rd or 4th levels(e.) Upgrade a weapon (D), armor (C), shield +1d6 damage at 6HD; and 1 bonus spell per caster level. You can use these new items in the future, whenever you're ready - just keep track!B) Don't upgrade any equipment until 3rd or 4th levels(e.) If your experience points are enough to gain a certain number of \"levels\" (experience point milestones), choose one option from table B:  I. You can use these new items when the time comes, whenever you're ready - just keep track!2) Level 2 to 3 - As soon as possible after gaining levels 1 and/or 2 by"
     ]
    },
    {
     "data": {
      "text/plain": "'1) Level 1 to 2 - Experience points are earned when you complete an adventure or defeat a monster in combat (depending on your character class). You can earn these experience points through playing mini-games, completing quests and solving puzzles within the game world. Once this first level is reached, choose one option from table A:A) Use all three of them to upgrade some equipment  for 3rd or 4th levels(e.) Upgrade a weapon (D), armor (C), shield +1d6 damage at 6HD; and 1 bonus spell per caster level. You can use these new items in the future, whenever you\\'re ready - just keep track!B) Don\\'t upgrade any equipment until 3rd or 4th levels(e.) If your experience points are enough to gain a certain number of \"levels\" (experience point milestones), choose one option from table B:  I. You can use these new items when the time comes, whenever you\\'re ready - just keep track!2) Level 2 to 3 - As soon as possible after gaining levels 1 and/or 2 by'"
     },
     "execution_count": 30,
     "metadata": {},
     "output_type": "execute_result"
    }
   ],
   "source": [
    "get_answer_for_question('how do I level up?')"
   ],
   "metadata": {
    "collapsed": false,
    "pycharm": {
     "name": "#%%\n"
    }
   }
  }
 ],
 "metadata": {
  "kernelspec": {
   "display_name": "Python 3",
   "language": "python",
   "name": "python3"
  },
  "language_info": {
   "codemirror_mode": {
    "name": "ipython",
    "version": 2
   },
   "file_extension": ".py",
   "mimetype": "text/x-python",
   "name": "python",
   "nbconvert_exporter": "python",
   "pygments_lexer": "ipython2",
   "version": "2.7.6"
  }
 },
 "nbformat": 4,
 "nbformat_minor": 0
}